{
 "metadata": {
  "language_info": {
   "codemirror_mode": {
    "name": "ipython",
    "version": 3
   },
   "file_extension": ".py",
   "mimetype": "text/x-python",
   "name": "python",
   "nbconvert_exporter": "python",
   "pygments_lexer": "ipython3",
   "version": 3
  },
  "orig_nbformat": 2
 },
 "nbformat": 4,
 "nbformat_minor": 2,
 "cells": [
  {
   "source": [
    "# Estimators\n",
    "\n",
    "- What is an estimator in scikit learn\n",
    "    - explain their methods (fit, predict, etc.)\n",
    "\n",
    "## Linear regression\n",
    "- Example of linear regression as estimator\n",
    "- Show how to inspect the output of the estimator\n",
    "\n",
    "## Logistic regression\n",
    "- Example of logistic regression as estimator\n",
    "\n",
    "## SVM\n",
    "- Example of SVM as estimator\n",
    "\n",
    "## KMeans\n",
    "- Example of KMeans as estimator\n",
    "\n",
    "## How to choose the estimator?\n",
    "(link to algorithm cheatsheet of sklearn: https://scikit-learn.org/stable/tutorial/machine_learning_map/index.html)"
   ],
   "cell_type": "markdown",
   "metadata": {}
  },
  {
   "source": [
    "# Performance metrics\n",
    "\n",
    "- How to choose the performance metrics\n",
    "- Example of accuracy, roc_auc, confusion matrix"
   ],
   "cell_type": "markdown",
   "metadata": {}
  },
  {
   "cell_type": "code",
   "execution_count": null,
   "metadata": {},
   "outputs": [],
   "source": []
  }
 ]
}