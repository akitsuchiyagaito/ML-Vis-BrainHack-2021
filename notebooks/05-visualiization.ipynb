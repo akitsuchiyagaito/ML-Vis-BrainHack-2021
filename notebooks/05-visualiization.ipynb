{
 "metadata": {
  "language_info": {
   "codemirror_mode": {
    "name": "ipython",
    "version": 3
   },
   "file_extension": ".py",
   "mimetype": "text/x-python",
   "name": "python",
   "nbconvert_exporter": "python",
   "pygments_lexer": "ipython3",
   "version": "3.8.0"
  },
  "orig_nbformat": 2,
  "kernelspec": {
   "name": "python380jvsc74a57bd0e0586eab252cb8fa711cd4b30bdccba2acffa522c305833123179c6b3a4af2b8",
   "display_name": "Python 3.8.0 64-bit ('ml-viz': conda)"
  }
 },
 "nbformat": 4,
 "nbformat_minor": 2,
 "cells": [
  {
   "source": [
    "# Matplotlib\n",
    "\n",
    "- Explain the logic behind Matplotlib\n",
    "- Show some basic plots"
   ],
   "cell_type": "markdown",
   "metadata": {}
  },
  {
   "source": [
    "# Seaborn\n",
    "\n",
    "- Seaborn is built on top of matplotlib\n",
    "- Show how to prepare your data and create some basic plots using seaborn"
   ],
   "cell_type": "markdown",
   "metadata": {}
  },
  {
   "source": [],
   "cell_type": "markdown",
   "metadata": {}
  }
 ]
}