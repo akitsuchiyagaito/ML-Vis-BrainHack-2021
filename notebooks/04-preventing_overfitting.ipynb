{
 "cells": [
  {
   "cell_type": "markdown",
   "metadata": {},
   "source": [
    "# 4. Preventing overfitting\n",
    "\n",
    "In this notebook, we will review:\n",
    "- The overfitting problem.\n",
    "- How to divide your data into a training and testing set with _scikit-learn_.\n",
    "- Concepts of cross-validation and how to implement it with _scikit-learn_.\n",
    "- Different regularization methods.\n",
    "- What is hyper-parameter tuning and how to implement it with _scikit-learn_.\n",
    "\n",
    "---"
   ]
  },
  {
   "cell_type": "markdown",
   "metadata": {},
   "source": [
    "## Overfitting\n",
    "\n",
    "To understand overfitting and see some examples of this issue, read [this amazing tutorial](https://github.com/neurohackademy/nh2020-curriculum/blob/master/tu-machine-learning-yarkoni/03-overfitting.ipynb) by Tal Yarkoni.\n",
    "\n",
    "The overfitting problem arises when we train a model that is over-parametrized with respect to the data, for example when we are using a very complex model, or when we have more features than observations in our dataset. In these cases the model can over-learn patters present in the training set that may affect their performance when predicting new information because they are essentially \"noise\" (they are not related to the pattern underlaying our prediction problem).\n"
   ]
  },
  {
   "cell_type": "markdown",
   "metadata": {},
   "source": [
    "## Training and testing data\n",
    "\n",
    "It is good practice to test the generalizability of the fitted model to real-data generating mechanisms, a process sometimes called __model validation__. In this process we evaluate the performance of the model when predicting data that has never seen during training (but comes from the same distribution as the training data) to asses if the model has been over-fit.\n",
    "\n",
    "This leads us to the distinction between __training data__ and __testing data__. We use the training data to fit the parameters of the model. When we evaluate the performance of the model using the testing data, we leave these parameters fixed."
   ]
  },
  {
   "cell_type": "markdown",
   "metadata": {},
   "source": [
    "Let's see how we can split our data into training and testing set with _scikit-learn_, and use this process to illustrate the problem of overfitting. \n",
    "\n",
    "First, let's create a fake dataset for classification analysis. We will then fit and score a special kind of support vector classifier that uses a polinomial kernel of degree 4. You don't need to know what this means, besides that this type of model will be more complex and more flexible than a logistic regression model."
   ]
  },
  {
   "cell_type": "code",
   "execution_count": null,
   "metadata": {},
   "outputs": [],
   "source": [
    "from sklearn.datasets import make_classification\n",
    "from sklearn.svm import SVC\n",
    "\n",
    "# Create fake dataset\n",
    "X, y = make_classification(\n",
    "    n_samples=100, n_features=20, n_informative=5, n_redundant=15, random_state=1\n",
    ")\n",
    "\n",
    "# Create and fit SVC\n",
    "svc = SVC(kernel='poly', degree=4, random_state=0).fit(X, y)\n",
    "\n",
    "# Score model\n",
    "print(f\"SVC mean performance: {svc.score(X, y)}\")"
   ]
  },
  {
   "cell_type": "markdown",
   "metadata": {},
   "source": [
    "Notice that in the code cell above, and during all the previous examples of this tutorial, we have been using the same dataset for training and evaluating the performance of the model. As explained before, this can result in overestimation of the model perfomance.\n",
    "\n",
    "Let's instead split our dataset into a training and testing set. We can do so using the function `train_test_split` in _scikit-learn_ (read the documentation [here](https://scikit-learn.org/stable/modules/generated/sklearn.model_selection.train_test_split.html)):"
   ]
  },
  {
   "cell_type": "code",
   "execution_count": null,
   "metadata": {},
   "outputs": [],
   "source": [
    "from sklearn.model_selection import train_test_split\n",
    "\n",
    "# Split X and y into training and testing data\n",
    "X_train, X_test, y_train, y_test = train_test_split(X, y, random_state=0)"
   ]
  },
  {
   "cell_type": "markdown",
   "metadata": {},
   "source": [
    "Let's print the shapes of the training and testing set:"
   ]
  },
  {
   "cell_type": "code",
   "execution_count": null,
   "metadata": {},
   "outputs": [],
   "source": [
    "print(f\"Shape of training set: {X_train.shape}\")\n",
    "print(f\"Shape of training labels: {y_train.shape}\")\n",
    "print(f\"Shape of testing sett: {X_test.shape}\")\n",
    "print(f\"Shape of testing labels: {y_test.shape}\")"
   ]
  },
  {
   "cell_type": "markdown",
   "metadata": {},
   "source": [
    "By default, _scikit-learn_ splits the dataset into a training set containing 75% of the original data, and a testing size containing the remaining 25%."
   ]
  },
  {
   "cell_type": "markdown",
   "metadata": {},
   "source": [
    "What happens if we fit our estimator to the training set, and evaluate it both using the training and testing set?"
   ]
  },
  {
   "cell_type": "code",
   "execution_count": null,
   "metadata": {},
   "outputs": [],
   "source": [
    "import numpy as np\n",
    "\n",
    "# Fit model to training set\n",
    "svc = SVC(kernel='poly', degree=5, random_state=0).fit(X_train, y_train)\n",
    "\n",
    "# Evaluate model with training and testing data\n",
    "## subsample training data for unbiased estimate\n",
    "np.random.seed(0)\n",
    "idx = np.random.choice(np.arange(len(X_train)), size=25)\n",
    "## print scores\n",
    "print(f\"SVC mean accuracy on training data: {svc.score(X_train[idx], y_train[idx])}\")\n",
    "print(f\"SVC mean accuracy on testing data: {svc.score(X_test, y_test)}\")"
   ]
  },
  {
   "cell_type": "markdown",
   "metadata": {},
   "source": [
    "As you can see, the performance of the model drops significantly when evaluated on the testing set, indicating that our model may have overfitted to the training data."
   ]
  },
  {
   "cell_type": "markdown",
   "metadata": {},
   "source": [
    "#### ✍️ Exercise\n",
    "\n",
    "Suppose we want our testing set size to comprise 20% of the original dataset. Modify `train_test_split` to achieve this aim. Write your answer in the cell below, and press the three dots to reveal the solution."
   ]
  },
  {
   "cell_type": "code",
   "execution_count": null,
   "metadata": {},
   "outputs": [],
   "source": []
  },
  {
   "cell_type": "code",
   "execution_count": null,
   "metadata": {
    "jupyter": {
     "source_hidden": true
    },
    "tags": []
   },
   "outputs": [],
   "source": [
    "# Answer\n",
    "X_train, X_test, y_train, y_test = train_test_split(X, y, test_size=20, random_state=0)\n",
    "\n",
    "print(f\"Proportion of testing set: {X_test.shape[0]/len(X)}\")"
   ]
  },
  {
   "cell_type": "markdown",
   "metadata": {},
   "source": [
    "# Cross-validation\n",
    "\n",
    "One approach for performing model validation and prevent overestimating the real performance of the model is __cross validation__. In cross-validation we divide our sample dataset into different subsets. We then perform multiple rounds of training and validation (testing) of the model. In each round, we train on some of those subsets, and validate the model on the remaining ones. Importantly, the assignment of the subsets to training and testing sets rotates.\n",
    "\n",
    "There are many types of cross-validation, but in this tutorial we will use as an example __Stratified K-Fold cross-validation__.\n"
   ]
  },
  {
   "cell_type": "markdown",
   "metadata": {},
   "source": [
    "## Stratified K-Fold cross-validation\n",
    "\n",
    "One popular type of cross-validation is __K-Fold__ cross-validation. In K-Fold cross-validation the dataset is split into $k$ equal subsets, also called folds. We then perform `k` rounds where each subset is used to validate the model while the others are used for training. Each subset is used for validation only once. This is better illustrated with the following image taken from the excellent blogpost [\"Evaluate a model\"](https://sebastianraschka.com/faq/docs/evaluate-a-model.html) written Sebastian Raschka:\n",
    "\n",
    "<figure>\n",
    "  <img src=\"../images/kfoldcv.png\" alt=\"kfoldcv\" width=\"700\"/>\n",
    "</figure>\n",
    "\n",
    "\n",
    "Another type of cross-validation is __Stratified K-Fold__. It follows the same logic of K-Fold cross-validation, but with this technique we make sure that each fold of the dataset has the same proportion of samples for each class."
   ]
  },
  {
   "cell_type": "markdown",
   "metadata": {},
   "source": [
    "Let's implement Stratified K-Fold in _scikit learn_. We will first create some fake data for classification:"
   ]
  },
  {
   "cell_type": "code",
   "execution_count": null,
   "metadata": {},
   "outputs": [],
   "source": [
    "from sklearn.datasets import make_classification\n",
    "\n",
    "# Create fake dataset\n",
    "X, y = make_classification(\n",
    "    n_samples=500, n_features=300, n_informative=100, random_state=0\n",
    ")"
   ]
  },
  {
   "cell_type": "markdown",
   "metadata": {},
   "source": [
    "Let's create a stratified cross-validation object using `StratifiedKFold` (read the documentation [here](https://scikit-learn.org/stable/modules/generated/sklearn.model_selection.StratifiedKFold.html#sklearn.model_selection.StratifiedKFold)). We will use 3 folds (defined here as `n_splits`):"
   ]
  },
  {
   "cell_type": "code",
   "execution_count": null,
   "metadata": {},
   "outputs": [],
   "source": [
    "from sklearn.model_selection import StratifiedKFold\n",
    "\n",
    "# Create cross validation object\n",
    "skf = StratifiedKFold(n_splits=3)"
   ]
  },
  {
   "cell_type": "markdown",
   "metadata": {},
   "source": [
    "Let's create a pipeline chaining a standard scaler and a logistic regression model, and evaluate the performance of the model using the function `cross_validate` (read the documentation [here](https://scikit-learn.org/stable/modules/generated/sklearn.model_selection.cross_validate.html)) which takes as input the cross-validation object created above:"
   ]
  },
  {
   "cell_type": "code",
   "execution_count": null,
   "metadata": {},
   "outputs": [],
   "source": [
    "from sklearn.linear_model import LogisticRegression\n",
    "from sklearn.model_selection import cross_validate\n",
    "from sklearn.pipeline import Pipeline\n",
    "from sklearn.preprocessing import StandardScaler\n",
    "\n",
    "# Create pipeline\n",
    "pipe = Pipeline([\n",
    "    ('scaler', StandardScaler()),\n",
    "    ('clf', LogisticRegression())\n",
    "])\n",
    "\n",
    "# Perform cross-validation\n",
    "cv_results = cross_validate(\n",
    "    pipe, X, y, scoring='accuracy', cv=skf\n",
    ")"
   ]
  },
  {
   "cell_type": "markdown",
   "metadata": {},
   "source": [
    "It's important to note that when we pass a pipeline to the `cross_validate` function, both the parameters of the transformer and the model remain fixed when transforming and evaluating the testing data. This prevents leaking data from the training to the test set."
   ]
  },
  {
   "cell_type": "markdown",
   "metadata": {},
   "source": [
    "Let's inspect the output of the cross-validation procedure:"
   ]
  },
  {
   "cell_type": "code",
   "execution_count": null,
   "metadata": {},
   "outputs": [],
   "source": [
    "cv_results"
   ]
  },
  {
   "cell_type": "markdown",
   "metadata": {},
   "source": [
    "We have three values for each entry, which correspond to each iteration of the cross-validation procedure. Generally these test scores are averaged and reported as the final test score (see image above). Let's do this:"
   ]
  },
  {
   "cell_type": "code",
   "execution_count": null,
   "metadata": {},
   "outputs": [],
   "source": [
    "import numpy as np\n",
    "\n",
    "# Compute mean of test scores\n",
    "mean_test_score = cv_results[\"test_score\"].mean()\n",
    "\n",
    "# Print mean test score\n",
    "print(f\"Mean test score: {np.round(mean_test_score, 2)}\")"
   ]
  },
  {
   "cell_type": "markdown",
   "metadata": {},
   "source": [
    "We can also return the training scores and estimators trained in each iteration by setting to `True` the parameters `return_train_score` and `return_estimator`:"
   ]
  },
  {
   "cell_type": "code",
   "execution_count": null,
   "metadata": {},
   "outputs": [],
   "source": [
    "# Perform cross validation\n",
    "cv_results = cross_validate(\n",
    "    pipe, X, y, scoring='accuracy', cv=skf,\n",
    "    return_train_score=True,\n",
    "    return_estimator=True\n",
    ")\n",
    "\n",
    "# Print results\n",
    "cv_results"
   ]
  },
  {
   "cell_type": "markdown",
   "metadata": {},
   "source": [
    "Note that cross-validation does not prevent overfitting to the training set, but rather reduces the bias when estimating and reporting the performance of our model."
   ]
  },
  {
   "cell_type": "markdown",
   "metadata": {},
   "source": [
    "#### ✍️ Exercise\n",
    "\n",
    "Can you read the documentation of `RepeatedStratifiedKFold` [here](https://scikit-learn.org/stable/modules/generated/sklearn.model_selection.RepeatedStratifiedKFold.html#sklearn.model_selection.RepeatedStratifiedKFold), reflect on how it differs from `StratifiedKFold`, and implement it to train a model on our fake dataset? Write your answer in the cell below, and press the three dots to reveal the solution."
   ]
  },
  {
   "cell_type": "code",
   "execution_count": null,
   "metadata": {},
   "outputs": [],
   "source": []
  },
  {
   "cell_type": "code",
   "execution_count": null,
   "metadata": {
    "jupyter": {
     "source_hidden": true
    },
    "tags": []
   },
   "outputs": [],
   "source": [
    "#### Answer\n",
    "from sklearn.model_selection import RepeatedStratifiedKFold\n",
    "\n",
    "# Create cross-validation\n",
    "rsf = RepeatedStratifiedKFold(\n",
    "    n_splits=3, n_repeats=3, random_state=0\n",
    ")\n",
    "\n",
    "# Create model\n",
    "clf = LogisticRegression(max_iter=1000)\n",
    "\n",
    "# Cross validate\n",
    "cv_results = cross_validate(\n",
    "    clf, X, y, scoring='accuracy', cv=rsf\n",
    ")\n",
    "cv_results"
   ]
  },
  {
   "cell_type": "markdown",
   "metadata": {
    "tags": []
   },
   "source": [
    "# Regularization\n",
    "\n",
    "One way of reducing overfitting is to regularize our models. Regularization penalizes to model to avoid it from over-adjusting to the training set. The penalty term is added to the _loss_ function of the model, and the way it is defined determines the type of regularization.\n",
    "\n",
    "The most well-known regularization types are:\n",
    "- __L1 or _Lasso___: Makes the coefficients of the model sparse, meaning some of them are shrinked to 0. This results in the model looking simpler.\n",
    "- __L2 or _Ridge___: Makes the coefficients of the model smaller. This results in the model looking smoother.\n",
    "\n",
    "In this tutorial we won't provide the mathematical formulation of these types of regularization, but you can read them [here](https://github.com/neurohackademy/nh2020-curriculum/blob/master/tu-machine-learning-yarkoni/05-model-selection.ipynb))."
   ]
  },
  {
   "cell_type": "markdown",
   "metadata": {},
   "source": [
    "Let's explore how _scikit-learn_ regularizes a logistic regression model. Let's create such model and inspect its parameters:"
   ]
  },
  {
   "cell_type": "code",
   "execution_count": null,
   "metadata": {},
   "outputs": [],
   "source": [
    "from sklearn.linear_model import LogisticRegression\n",
    "\n",
    "# Create model\n",
    "clf = LogisticRegression()\n",
    "vars(clf)"
   ]
  },
  {
   "cell_type": "markdown",
   "metadata": {},
   "source": [
    "As you can see, by default scikit-learn penalizes logistic regression models using _Ridge (L2)_ regularization. If you read the documentation of `LogisticRegression` [here](https://scikit-learn.org/stable/modules/generated/sklearn.linear_model.LogisticRegression.html) you will also notice that the parameter `C` determines the strenght of the regularization applied. By default this value is set to 1. Lower values will indicate stronger regularization."
   ]
  },
  {
   "cell_type": "markdown",
   "metadata": {},
   "source": [
    "Let's know explore how regularizing impacts the values of the coefficients. Using an _L2_ regularization, let's determine how the sum of the absolute value of the coefficients increases with less regularization:"
   ]
  },
  {
   "cell_type": "code",
   "execution_count": null,
   "metadata": {},
   "outputs": [],
   "source": [
    "# List of regularization values to be explored\n",
    "c_values = [0.001, 0.1, 100]\n",
    "\n",
    "# Print sum of absolute values of coefficients\n",
    "for c_val in c_values:\n",
    "    clf = LogisticRegression(penalty=\"l2\", C=c_val).fit(X_train, y_train)\n",
    "    print(f\"Sum of coefficients with C {c_val}: {np.sum(np.abs(clf.coef_))}\")"
   ]
  },
  {
   "cell_type": "markdown",
   "metadata": {},
   "source": [
    "As expected, the values get bigger with less regularization. What happens when we use _L1_ regularization? Think about it before looking at the code below."
   ]
  },
  {
   "cell_type": "code",
   "execution_count": null,
   "metadata": {},
   "outputs": [],
   "source": [
    "# Print number of coefficients set to 0\n",
    "for c_val in c_values:\n",
    "    clf = LogisticRegression(penalty=\"l1\", solver=\"liblinear\", C=c_val).fit(X_train, y_train)\n",
    "    zero_coef = np.sum((clf.coef_)==0)\n",
    "    print(f\"Number of coefficients set to 0 with C {c_val}: {zero_coef}\")"
   ]
  },
  {
   "cell_type": "markdown",
   "metadata": {},
   "source": [
    "As expected, increasing the strength of _L1_ regularization increases the number of coefficients that are set to 0 when training the model."
   ]
  },
  {
   "cell_type": "markdown",
   "metadata": {},
   "source": [
    "#### ✍️ Exercise\n",
    "\n",
    "Can you explore the [API](https://scikit-learn.org/stable/modules/classes.html) of _scikit-learn_ and determine how a create linear regression model using _L2_ (also called _Ridge_) regularization? Write your answer in the cell below, and press the three dots to reveal the solution.\n",
    "\n",
    "_Hint:_ You will not be able to add regularization to a linear regression model in the same way than the logistic regression case. Check the module [sklearn.linear_model](https://scikit-learn.org/stable/modules/classes.html#module-sklearn.linear_model) for ideas on how to add this regularization instead."
   ]
  },
  {
   "cell_type": "code",
   "execution_count": null,
   "metadata": {},
   "outputs": [],
   "source": []
  },
  {
   "cell_type": "markdown",
   "metadata": {
    "jupyter": {
     "source_hidden": true
    },
    "tags": []
   },
   "source": [
    "__Answer__\n",
    "\n",
    "A linear regression model using _l2_ regularization can be created as follows:\n",
    "```python\n",
    "\n",
    "from sklearn.linear_model import Ridge\n",
    "ridge = Ridge()\n",
    "\n",
    "```\n"
   ]
  },
  {
   "cell_type": "markdown",
   "metadata": {
    "tags": []
   },
   "source": [
    "# _Optional material_: Hyper-parameter tuning\n",
    "\n",
    "The value of regularization that gives the best performance in not known beforehand. Some people search for this value manually, using the whole training and testing dataset multiple times. This could lead to __selection bias__, which in turns results in overestimating the real performance of the model. Instead, good practice would be to tune this parameter the same as the weights of the model. For this we need to understand the concept of __hyper-parameter tuning__.\n",
    "\n",
    "__Hyper-parameters__ are those that define how the model will learn during the training process. The strength of regularization is one example, but also the type of regularization, or any other parameters that get passed to the estimator object before training. This parameters remain fixed when training the coefficients of a model.\n",
    "\n",
    "We can use a special type of cross-validation, called __nested k cross-validation__, to train the hyper-parameter without leaking data. In nested cross-validation we first split our data into a validation set and a training set. We call this the outer loop and we use it to evaluate the performance of our model. The training set of the outer loop is further divided into another training and testing set, which we call the inner loop. We perform hyper-parameter tunning on this inner loop, iterating over hyper-parameters values. \n",
    "\n",
    "\n",
    "This is better illustrated with the following image taken from the excellent blogpost [\"Evaluate a model\"](https://sebastianraschka.com/faq/docs/evaluate-a-model.html) written Sebastian Raschka:\n",
    "\n",
    "<figure>\n",
    "  <img src=\"../images/nestedkfold.png\" alt=\"kfoldcv\" width=\"500\"/>\n",
    "</figure>\n"
   ]
  },
  {
   "cell_type": "markdown",
   "metadata": {},
   "source": [
    "Let's first create a fake dataset for illustrating how we can carry out this process in _scikit-learn_:"
   ]
  },
  {
   "cell_type": "code",
   "execution_count": null,
   "metadata": {},
   "outputs": [],
   "source": [
    "from sklearn.datasets import make_moons\n",
    "\n",
    "# Create fake dataset\n",
    "X, y = make_moons(noise=0.352, random_state=1, n_samples=100)"
   ]
  },
  {
   "cell_type": "markdown",
   "metadata": {},
   "source": [
    "In _scikit-learn_ we can implement hyper-parameter tuning using `GridSearchCV` (read the documentation [here](https://scikit-learn.org/stable/modules/generated/sklearn.model_selection.GridSearchCV.html)), among others. `GridSearchCV` exhaustively scores the performance of the model through all possible hyper-parameter values that we passed as input."
   ]
  },
  {
   "cell_type": "code",
   "execution_count": null,
   "metadata": {},
   "outputs": [],
   "source": [
    "from sklearn.model_selection import GridSearchCV, RepeatedStratifiedKFold\n",
    "from sklearn.svm import SVC\n",
    "\n",
    "# List of regularization values to be explored\n",
    "c_values = {\"C\": [0.001, 0.1, 100]}\n",
    "\n",
    "# Create model\n",
    "clf = LogisticRegression(random_state=0)\n",
    "\n",
    "# Create cross-validator\n",
    "cv = RepeatedStratifiedKFold(\n",
    "    n_splits=10, n_repeats=10, random_state=0\n",
    ")\n",
    "\n",
    "# Perform grid search\n",
    "search = GridSearchCV(\n",
    "    estimator=svc, param_grid=c_values,\n",
    "    scoring='roc_auc', cv=cv\n",
    ")\n",
    "search.fit(X, y)"
   ]
  },
  {
   "cell_type": "markdown",
   "metadata": {},
   "source": [
    "We can convert the results of `GridSearchCV` to a pandas dataframe to better explore the scores:"
   ]
  },
  {
   "cell_type": "code",
   "execution_count": null,
   "metadata": {},
   "outputs": [],
   "source": [
    "import pandas as pd\n",
    "\n",
    "results_df = pd.DataFrame(search.cv_results_)\n",
    "results_df"
   ]
  },
  {
   "cell_type": "markdown",
   "metadata": {},
   "source": [
    "We can clean up this output in the following way:"
   ]
  },
  {
   "cell_type": "code",
   "execution_count": null,
   "metadata": {},
   "outputs": [],
   "source": [
    "# Sort rows by best performance\n",
    "results_df = results_df.sort_values(by=['rank_test_score'])\n",
    "\n",
    "# Create dataframe with results averaged\n",
    "results_df = (\n",
    "    results_df\n",
    "    .set_index(results_df[\"params\"].apply(\n",
    "        lambda x: \"_\".join(str(val) for val in x.values()))\n",
    "    )\n",
    "    .rename_axis(\"C-value\")\n",
    ")\n",
    "\n",
    "# Rename columns\n",
    "results_df[\n",
    "    ['params', 'rank_test_score', 'mean_test_score', 'std_test_score']\n",
    "]"
   ]
  },
  {
   "cell_type": "markdown",
   "metadata": {},
   "source": [
    "This output allows us to easily see which regularization strenght performed best (in this case `C=100`) and its mean score and standard deviation across cross-validation loops.\n",
    "\n",
    "You can also learn how to determine if the differences between the scores obtained with these parameters is statistically significant [here](https://scikit-learn.org/stable/auto_examples/model_selection/plot_grid_search_stats.html)."
   ]
  },
  {
   "cell_type": "markdown",
   "metadata": {},
   "source": [
    "---\n",
    "# ✏️ Check your knowledge\n",
    "Load the ABIDE 2 dataset and:\n",
    "\n",
    "1. Perform classification analyses using `StratifiedKFold` with 10 folds.\n",
    "    - How variable are the testing scores?\n",
    "    - How different is the accuracy obtained in the training set as compared to the testing set?\n",
    "    - Compute the mean accuracy over folds to obtain a final estimate of the performance of the model.\n",
    "2. If you have read the optional material, use `GridSearchCV` to determine which regularization technique (_L1_ or _L2_) and value of `C` gives the best performance when using `SVC` to perform classification analysis.\n"
   ]
  },
  {
   "cell_type": "markdown",
   "metadata": {},
   "source": [
    "---\n",
    "# Additional resources\n",
    "\n",
    "- [Overfitting and underfitting](https://github.com/neurohackademy/nh2020-curriculum/blob/master/tu-machine-learning-yarkoni/03-overfitting.ipynb), [Validation](https://github.com/neurohackademy/nh2020-curriculum/blob/master/tu-machine-learning-yarkoni/04-validation.ipynb) and [Model selection](https://github.com/neurohackademy/nh2020-curriculum/blob/master/tu-machine-learning-yarkoni/05-model-selection.ipynb) by _Tal Yarkoni_."
   ]
  },
  {
   "cell_type": "code",
   "execution_count": null,
   "metadata": {},
   "outputs": [],
   "source": []
  }
 ],
 "metadata": {
  "kernelspec": {
   "display_name": "Python 3",
   "language": "python",
   "name": "python3"
  },
  "language_info": {
   "codemirror_mode": {
    "name": "ipython",
    "version": 3
   },
   "file_extension": ".py",
   "mimetype": "text/x-python",
   "name": "python",
   "nbconvert_exporter": "python",
   "pygments_lexer": "ipython3",
   "version": "3.8.0"
  }
 },
 "nbformat": 4,
 "nbformat_minor": 4
}
