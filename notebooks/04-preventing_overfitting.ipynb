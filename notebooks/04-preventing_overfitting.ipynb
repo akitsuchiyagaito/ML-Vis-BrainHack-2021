{
 "metadata": {
  "language_info": {
   "codemirror_mode": {
    "name": "ipython",
    "version": 3
   },
   "file_extension": ".py",
   "mimetype": "text/x-python",
   "name": "python",
   "nbconvert_exporter": "python",
   "pygments_lexer": "ipython3",
   "version": 3
  },
  "orig_nbformat": 2
 },
 "nbformat": 4,
 "nbformat_minor": 2,
 "cells": [
  {
   "source": [
    "# Overfitting\n",
    "\n",
    "- What is overfitting and underfitting\n",
    "- Bias and Variance trade-off\n"
   ],
   "cell_type": "markdown",
   "metadata": {}
  },
  {
   "source": [
    "# Regularization\n",
    "\n",
    "- How to regularize models in scikit-learn using different methods and values"
   ],
   "cell_type": "markdown",
   "metadata": {}
  },
  {
   "source": [
    "# Cross-validation\n",
    "\n",
    "- Why use cross-validation\n",
    "- Types of cross-validation\n",
    "- Give as examples how to implement Stratified K Fold and Leave One Out"
   ],
   "cell_type": "markdown",
   "metadata": {}
  },
  {
   "source": [
    "# Hyper-parameter tuning\n",
    "\n",
    "- Why do hyper-parameter tuning \n",
    "- How to do it with GridSearchCV"
   ],
   "cell_type": "markdown",
   "metadata": {}
  },
  {
   "cell_type": "code",
   "execution_count": null,
   "metadata": {},
   "outputs": [],
   "source": []
  }
 ]
}