{
 "cells": [
  {
   "cell_type": "markdown",
   "metadata": {},
   "source": [
    "# 05 - Data visualization with matplotlib and seaborn\n",
    "\n",
    "\n",
    "This notebook will show you:\n",
    "- []\n",
    "- []\n",
    "- []\n",
    "\n",
    "---"
   ]
  },
  {
   "cell_type": "markdown",
   "metadata": {},
   "source": [
    "For this tutorial we are going to use the wine dataset also used in [notebook 3](./03-pipelines.ipynb):"
   ]
  },
  {
   "cell_type": "code",
   "execution_count": null,
   "metadata": {},
   "outputs": [],
   "source": [
    "from sklearn.datasets import load_wine\n",
    "\n",
    "dataset = load_wine(as_frame=True)[\"frame\"]  # Only store the dataframe\n",
    "dataset"
   ]
  },
  {
   "cell_type": "markdown",
   "metadata": {},
   "source": [
    "# Matplotlib\n",
    "\n",
    "[Matplotlib](https://matplotlib.org/) is the most well-known and used visualization package in Python.\n",
    "You can use matplotlib to create static, animated, and interactive plots.\n",
    "\n",
    "\n",
    "## Figure and axes\n",
    "\n",
    "Plots in matplotlib are composed of Figure and Axes. A __figure__ is the final image, which can contain more than one plot. We refer to the plots contained inside a figure as __axes__. Do not confuse axes with the __axis__ (x, y) of a figure! \n",
    "\n",
    "The following figure taken from the matplotlib tutorial [\"Parts of a figure\"](https://matplotlib.org/1.5.1/faq/usage_faq.html#parts-of-a-figure) illustrates these components:\n",
    "\n",
    "![](../images/matplotlib_parts_figure.png)\n"
   ]
  },
  {
   "cell_type": "markdown",
   "metadata": {},
   "source": [
    "We can create figure and axes by calling `subplots` (read the documentation [here](https://matplotlib.org/stable/api/_as_gen/matplotlib.pyplot.subplots.html)) in the following manner:"
   ]
  },
  {
   "cell_type": "code",
   "execution_count": null,
   "metadata": {},
   "outputs": [],
   "source": [
    "import matplotlib.pyplot as plt\n",
    "\n",
    "fig, ax = plt.subplots()"
   ]
  },
  {
   "cell_type": "markdown",
   "metadata": {},
   "source": [
    "Let's inspect `fig` and `ax`:"
   ]
  },
  {
   "cell_type": "code",
   "execution_count": null,
   "metadata": {},
   "outputs": [],
   "source": [
    "print(fig)\n",
    "print(ax)"
   ]
  },
  {
   "cell_type": "markdown",
   "metadata": {},
   "source": [
    "`subplot` also allows us to create a Figure with mutliple Axes, and define how these should spread across rows (using parameter `nrows`) and columns (using parameter `ncols`). We can also specify the size of our figure in inches, using the parameter `figsize`: "
   ]
  },
  {
   "cell_type": "code",
   "execution_count": null,
   "metadata": {},
   "outputs": [],
   "source": [
    "fig, ax = plt.subplots(nrows=2, ncols=1, figsize=(5, 3))"
   ]
  },
  {
   "cell_type": "markdown",
   "metadata": {},
   "source": [
    "Now that we have two axes, what does `ax` represent?"
   ]
  },
  {
   "cell_type": "code",
   "execution_count": null,
   "metadata": {},
   "outputs": [],
   "source": [
    "print(ax)"
   ]
  },
  {
   "cell_type": "markdown",
   "metadata": {},
   "source": [
    "`ax` is now an array containing two axes objects. This means we can also call `subplots` in the following manner:\n",
    "\n",
    "`fig, (ax0, ax1) = plt.subplots(nrows=2, ncols=1)`."
   ]
  },
  {
   "cell_type": "markdown",
   "metadata": {},
   "source": [
    "### Exercise\n",
    "How would you create a Figure with 2 Axes, one per column?"
   ]
  },
  {
   "cell_type": "code",
   "execution_count": null,
   "metadata": {},
   "outputs": [],
   "source": []
  },
  {
   "cell_type": "markdown",
   "metadata": {},
   "source": [
    "#### Answer"
   ]
  },
  {
   "cell_type": "code",
   "execution_count": null,
   "metadata": {},
   "outputs": [],
   "source": [
    "#fig, ax = plt.subplots(nrows=1, ncols=2)"
   ]
  },
  {
   "cell_type": "markdown",
   "metadata": {},
   "source": [
    "## Other components of a plot\n",
    "\n",
    "Figures and axes are not the only components of a Maplotlib plot. \n",
    "\n",
    "The following illustration taken from the [Matplotlib faq](https://matplotlib.org/2.0.2/faq/usage_faq.html) sketches other important components:\n",
    "\n",
    "![](../images/matplotlib_anatomy_figure.png)"
   ]
  },
  {
   "cell_type": "markdown",
   "metadata": {},
   "source": [
    "{TO-DO} show how you can set those attributes using methods of `ax`"
   ]
  },
  {
   "cell_type": "markdown",
   "metadata": {},
   "source": [
    "## Inspecting the dataset"
   ]
  },
  {
   "cell_type": "markdown",
   "metadata": {},
   "source": [
    "Let's now use this knowledge to create some plots based on the wine dataset. \n",
    "\n",
    "One common data visualization step during machine learning analysis is to visually inspect the correlation between the features and the predictor, or between the features themselves."
   ]
  },
  {
   "cell_type": "markdown",
   "metadata": {},
   "source": [
    "### Feature correlation\n",
    "\n",
    "Let's plot the correlation between two of the values of two of the features of the dataset, alcohol and malic acid. \n",
    "\n",
    "As you can see looking at the following code, various methods of Axes can help us customize our plot. For example, we can use `set_xlabel` to determine the label in the x-axis, or `set_title` to add a title to the figure."
   ]
  },
  {
   "cell_type": "code",
   "execution_count": null,
   "metadata": {},
   "outputs": [],
   "source": [
    "alcohol = dataset[\"alcohol\"]\n",
    "malic_acid = dataset[\"malic_acid\"]\n",
    "\n",
    "fig, ax = plt.subplots(figsize=(7,5))\n",
    "ax.scatter(alcohol, malic_acid)\n",
    "ax.set_xlabel(\"alcohol\")\n",
    "ax.set_ylabel(\"malic acid\")\n",
    "ax.set_title(\"Feature correlation\")\n",
    "ax.legend()\n",
    "plt.show()"
   ]
  },
  {
   "cell_type": "markdown",
   "metadata": {},
   "source": [
    "### Exercise\n",
    "\n",
    "We can customize our plot in many different ways. Read the documentation of `scatter` [here](https://matplotlib.org/stable/api/_as_gen/matplotlib.pyplot.scatter.html) and change the code above so that the samples are plotted in red instead of blue. Try also changing the transparency of the dots (hint: you can use the argument `alpha` for this)."
   ]
  },
  {
   "cell_type": "code",
   "execution_count": null,
   "metadata": {},
   "outputs": [],
   "source": []
  },
  {
   "cell_type": "markdown",
   "metadata": {},
   "source": [
    "#### Answer"
   ]
  },
  {
   "cell_type": "code",
   "execution_count": null,
   "metadata": {},
   "outputs": [],
   "source": [
    "#"
   ]
  },
  {
   "cell_type": "markdown",
   "metadata": {},
   "source": [
    "### Class distribution per feature\n",
    "\n",
    "- We can also explore the relationship between the predicted class and each feature. But the predicted classes are labels, so using a scatter plot wouldn't be the right option to illustrate this relationship. A more suitable possibility would be to use boxplots.\n",
    "\n",
    "- Describe boxplots"
   ]
  },
  {
   "cell_type": "markdown",
   "metadata": {},
   "source": [
    "- You can read the documentation of `boxplot` [here](https://matplotlib.org/stable/api/_as_gen/matplotlib.pyplot.boxplot.html)\n",
    "- `boxplot` takes as input separate arrays with the values for each class"
   ]
  },
  {
   "cell_type": "code",
   "execution_count": null,
   "metadata": {},
   "outputs": [],
   "source": [
    "alcohol_by_class = [\n",
    "    dataset.loc[dataset[\"target\"]==c][\"alcohol\"].values for c in set(dataset[\"target\"])\n",
    "]"
   ]
  },
  {
   "cell_type": "markdown",
   "metadata": {},
   "source": [
    "Let's plot the data:"
   ]
  },
  {
   "cell_type": "code",
   "execution_count": null,
   "metadata": {},
   "outputs": [],
   "source": [
    "fig, ax = plt.subplots(figsize=(7,5))\n",
    "ax.boxplot(alcohol_by_class)\n",
    "ax.set_xlabel(\"wine class\")\n",
    "ax.set_ylabel(\"alcohol\")\n",
    "ax.set_title(\"Alcohol by wine class\")\n",
    "plt.show()"
   ]
  },
  {
   "cell_type": "markdown",
   "metadata": {},
   "source": [
    "The classes labels are not very informative. Unfortunately, in this dataset we don't have available information on which types of wine each number represents. For illustration purposes, in this tutorial we will invent the mapping of such labels:"
   ]
  },
  {
   "cell_type": "code",
   "execution_count": null,
   "metadata": {},
   "outputs": [],
   "source": [
    "classes_names = [\"cabernet\", \"merlot\", \"primitivo\"]\n",
    "\n",
    "fig, ax = plt.subplots(figsize=(7,5))\n",
    "ax.boxplot(alcohol_by_class)\n",
    "\n",
    "ax.set_xticklabels(classes_names)\n",
    "\n",
    "ax.set_xlabel(\"wine class\")\n",
    "ax.set_ylabel(\"alcohol\")\n",
    "ax.set_title(\"Alcohol by wine class\")\n",
    "plt.show()"
   ]
  },
  {
   "cell_type": "markdown",
   "metadata": {},
   "source": [
    "Let's now plot the relationship between all predictors and the labels. We can do this by creating multiple axes in a single plot:"
   ]
  },
  {
   "cell_type": "code",
   "execution_count": null,
   "metadata": {},
   "outputs": [],
   "source": [
    "# nrows = 5\n",
    "# ncols = 2\n",
    "\n",
    "# fig, axes = plt.subplots(nrows, ncols, figsize=(12,20), constrained_layout=True)\n",
    "# fig.suptitle(\"Diabetes progression by feature\", fontsize=16)\n",
    "\n",
    "# for idx, ax in enumerate(axes.flatten()):\n",
    "#     predictor = dataset['frame'].iloc[:, idx]\n",
    "#     ax.scatter(predictor, dataset['frame']['target'])\n",
    "#     ax.set_xlabel(f\"{predictor.name}\")\n",
    "#     ax.set_ylabel(\"diabetes progression\")\n",
    "\n",
    "# plt.show()"
   ]
  },
  {
   "cell_type": "markdown",
   "metadata": {},
   "source": [
    "#### Exercise\n",
    "\n",
    "{To-Do}"
   ]
  },
  {
   "cell_type": "code",
   "execution_count": null,
   "metadata": {},
   "outputs": [],
   "source": []
  },
  {
   "cell_type": "markdown",
   "metadata": {},
   "source": [
    "# Seaborn"
   ]
  },
  {
   "cell_type": "markdown",
   "metadata": {},
   "source": [
    "Going back to our features correlation example, what if besides plotting the observations we also wanted to visualiza the regression line that best fits the data?\n",
    "\n",
    "We could achieve this by calculating the line of best fit using any Python stats package (such as _statsmodel_), and then use `plot` in _matplotlib_ to visualize the result on top of the scatterplot. However, there is another great visualization package in Python where doing this becomes very easy: [_seaborn_](https://seaborn.pydata.org/).\n",
    "\n",
    "(...) talk about seaborn\n",
    "- high-level plotting library"
   ]
  },
  {
   "cell_type": "code",
   "execution_count": null,
   "metadata": {},
   "outputs": [],
   "source": [
    "import seaborn as sns\n",
    "\n",
    "sns.regplot(x=alcohol, y=malic_acid)\n",
    "plt.show()"
   ]
  },
  {
   "cell_type": "markdown",
   "metadata": {},
   "source": [
    "!! Talk about the integration between seaborn an pandas"
   ]
  },
  {
   "cell_type": "markdown",
   "metadata": {},
   "source": [
    "{To-Do: Use seaborn to plot violin-plots}"
   ]
  },
  {
   "cell_type": "markdown",
   "metadata": {},
   "source": [
    "### Exercise"
   ]
  },
  {
   "cell_type": "code",
   "execution_count": null,
   "metadata": {},
   "outputs": [],
   "source": []
  },
  {
   "cell_type": "markdown",
   "metadata": {},
   "source": [
    "# ✏️ Check your knowledge\n",
    "\n",
    "Load the ABIDE 2 dataset and:\n",
    "\n",
    "1. Subselect some features (ROIs) and plot their correlation. \n",
    "    - Check if ROIs from closer brain areas are more correlated than those farer apart.\n",
    "2. Subselect some features (ROIs) and plot their distribution for each class. \n",
    "    - Do you observe some interesting pattern/s?\n"
   ]
  },
  {
   "cell_type": "markdown",
   "metadata": {},
   "source": [
    "# Additional resources\n",
    "- [Data Visualization in Python _by Kirstie Whitaker_](https://www.youtube.com/watch?v=uaKu5a6P3oU)\n",
    "- [Matplotlib cheatsheet](https://github.com/matplotlib/cheatsheets/blob/master/cheatsheets-1.png)\n",
    "- [Parts of a figure](https://matplotlib.org/1.5.1/faq/usage_faq.html#parts-of-a-figure)\n",
    "- [The lifecycle of a plot](https://matplotlib.org/stable/tutorials/introductory/lifecycle.html): Official matplotlib guide to creating a plot."
   ]
  },
  {
   "cell_type": "code",
   "execution_count": null,
   "metadata": {},
   "outputs": [],
   "source": []
  }
 ],
 "metadata": {
  "kernelspec": {
   "display_name": "Python 3",
   "language": "python",
   "name": "python3"
  },
  "language_info": {
   "codemirror_mode": {
    "name": "ipython",
    "version": 3
   },
   "file_extension": ".py",
   "mimetype": "text/x-python",
   "name": "python",
   "nbconvert_exporter": "python",
   "pygments_lexer": "ipython3",
   "version": "3.8.0"
  }
 },
 "nbformat": 4,
 "nbformat_minor": 4
}
