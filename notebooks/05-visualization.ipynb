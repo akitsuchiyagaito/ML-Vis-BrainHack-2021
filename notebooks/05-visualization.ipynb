{
 "cells": [
  {
   "cell_type": "markdown",
   "metadata": {},
   "source": [
    "# 5. Data visualization with matplotlib and seaborn\n",
    "\n",
    "\n",
    "This notebook will review:\n",
    "- Basic components of a _matplotlib_ plot.\n",
    "- How to plot feature correlations and feature value distribution over classes.\n",
    "- Simple plots using _seaborn_.\n",
    "\n",
    "---"
   ]
  },
  {
   "cell_type": "markdown",
   "metadata": {},
   "source": [
    "Our dataset for this tutorial is going to be the wine dataset, also used in [notebook 3](./03-pipelines.ipynb):"
   ]
  },
  {
   "cell_type": "code",
   "execution_count": null,
   "metadata": {},
   "outputs": [],
   "source": [
    "from sklearn.datasets import load_wine\n",
    "\n",
    "# Load dataset into dataframe\n",
    "dataset = load_wine(as_frame=True)[\"frame\"]\n",
    "dataset"
   ]
  },
  {
   "cell_type": "markdown",
   "metadata": {},
   "source": [
    "# Matplotlib\n",
    "\n",
    "[Matplotlib](https://matplotlib.org/) is the most well-known and used visualization package in Python.\n",
    "You can use _matplotlib_ to create static, animated, and interactive plots.\n",
    "\n",
    "\n",
    "## Figure and axes\n",
    "\n",
    "Plots in _matplotlib_ are composed of Figure and Axes. A __figure__ is the final image, which can contain more than one plot. We refer to the plots contained inside a figure as __axes__. Do not confuse axes with the __axis__ (x, y) of a figure! \n",
    "\n",
    "The following figure taken from the matplotlib tutorial [\"Parts of a figure\"](https://matplotlib.org/1.5.1/faq/usage_faq.html#parts-of-a-figure) illustrates these components:\n",
    "\n",
    "![](../images/matplotlib_parts_figure.png)\n"
   ]
  },
  {
   "cell_type": "markdown",
   "metadata": {},
   "source": [
    "We can create a figure and axes by calling `subplots()` (read the documentation [here](https://matplotlib.org/stable/api/_as_gen/matplotlib.pyplot.subplots.html)) in the following manner:"
   ]
  },
  {
   "cell_type": "code",
   "execution_count": null,
   "metadata": {},
   "outputs": [],
   "source": [
    "import matplotlib.pyplot as plt\n",
    "\n",
    "fig, ax = plt.subplots()"
   ]
  },
  {
   "cell_type": "markdown",
   "metadata": {},
   "source": [
    "Let's inspect `fig` and `ax`:"
   ]
  },
  {
   "cell_type": "code",
   "execution_count": null,
   "metadata": {},
   "outputs": [],
   "source": [
    "print(fig)\n",
    "print(ax)"
   ]
  },
  {
   "cell_type": "markdown",
   "metadata": {},
   "source": [
    "`subplot` also allows us to create a figure with mutliple axes, and define how these should spread across rows (using the parameter `nrows`) and columns (using the parameter `ncols`). We can also specify the size of our figure in inches, using the parameter `figsize`: "
   ]
  },
  {
   "cell_type": "code",
   "execution_count": null,
   "metadata": {},
   "outputs": [],
   "source": [
    "fig, ax = plt.subplots(nrows=2, ncols=1, figsize=(5, 3))"
   ]
  },
  {
   "cell_type": "markdown",
   "metadata": {},
   "source": [
    "Now that we have two axes, what does `ax` represent?"
   ]
  },
  {
   "cell_type": "code",
   "execution_count": null,
   "metadata": {},
   "outputs": [],
   "source": [
    "print(ax)"
   ]
  },
  {
   "cell_type": "markdown",
   "metadata": {},
   "source": [
    "`ax` is now an array containing two axes objects. This means we can also call `subplots` in the following manner:\n",
    "\n",
    "`fig, (ax0, ax1) = plt.subplots(nrows=2, ncols=1)`."
   ]
  },
  {
   "cell_type": "markdown",
   "metadata": {},
   "source": [
    "#### ✍️ Exercise\n",
    "\n",
    "Can you create a Figure with 2 Axes, one per column, specifying the plot to be 5x5 inches?\n",
    "\n",
    "Write your answer in the cell below, and press the three dots to reveal the solution."
   ]
  },
  {
   "cell_type": "code",
   "execution_count": null,
   "metadata": {},
   "outputs": [],
   "source": []
  },
  {
   "cell_type": "code",
   "execution_count": null,
   "metadata": {
    "jupyter": {
     "source_hidden": true
    },
    "tags": []
   },
   "outputs": [],
   "source": [
    "#### Answer\n",
    "fig, ax = plt.subplots(nrows=1, ncols=2, figsize=(5, 5))"
   ]
  },
  {
   "cell_type": "markdown",
   "metadata": {},
   "source": [
    "## The components of Axes\n",
    "\n",
    "The axes contains the most important elements of a plot in _matplotlib_, for example:\n",
    "- The __axis__ defining the data limits of the plot (set via `set_axis()`)\n",
    "- The __title__ (set via `set_title()`)\n",
    "- The __x and y labels__ (set via `set_xlabel()` and `set_ylabel()`). \n",
    "- The __x and y ticks__ (set via `set_xticks()`)\n",
    "- The __x and y tick labels__ (set via `set_xticklabels()`)\n",
    "\n",
    "The following illustration taken from the [Matplotlib faq](https://matplotlib.org/2.0.2/faq/usage_faq.html) illustrates these and other important components:\n",
    "\n",
    "<figure>\n",
    "  <img src=\"../images/matplotlib_anatomy_figure.png\" alt=\"kfoldcv\" width=\"600\"/>\n",
    "</figure>"
   ]
  },
  {
   "cell_type": "markdown",
   "metadata": {},
   "source": [
    "Let's now show how you can set and modify some of these components using our wine dataset."
   ]
  },
  {
   "cell_type": "markdown",
   "metadata": {},
   "source": [
    "## Inspecting the dataset"
   ]
  },
  {
   "cell_type": "markdown",
   "metadata": {},
   "source": [
    "One common data visualization step during machine learning analysis is to visually inspect the relationship between the features and the outcome variable, or between the features themselves."
   ]
  },
  {
   "cell_type": "markdown",
   "metadata": {},
   "source": [
    "### Feature correlation\n",
    "\n",
    "Let's select two features of our dataset, alcohol and malic acid, and visualize how their values relate to each other using a [__scatterplot__](https://en.wikipedia.org/wiki/Scatter_plot#). "
   ]
  },
  {
   "cell_type": "code",
   "execution_count": null,
   "metadata": {},
   "outputs": [],
   "source": [
    "# Define features to be plotted\n",
    "alcohol = dataset[\"alcohol\"]\n",
    "malic_acid = dataset[\"malic_acid\"]\n",
    "\n",
    "# Create and show scatterplot\n",
    "fig, ax = plt.subplots(figsize=(7,5))\n",
    "ax.scatter(alcohol, malic_acid)\n",
    "ax.set_xlabel(\"alcohol\")\n",
    "ax.set_ylabel(\"malic acid\")\n",
    "ax.set_title(\"Feature correlation\")\n",
    "plt.show()"
   ]
  },
  {
   "cell_type": "markdown",
   "metadata": {
    "tags": []
   },
   "source": [
    "As you can see from the code above, plots are created on top of axes by running `ax.{my_type_of_plot}`. The axes are also used to set most of the other elements of a plot. For example, we can use `ax.set_xlabel` to determine the label in the x-axis, or `ax.set_title` to add a title to the figure."
   ]
  },
  {
   "cell_type": "markdown",
   "metadata": {},
   "source": [
    "#### ✍️ Exercise\n",
    "\n",
    "We can customize our plot in many different ways. Read the documentation of `scatter` [here](https://matplotlib.org/stable/api/_as_gen/matplotlib.pyplot.scatter.html) and change the code above so that the samples are plotted in red instead of blue. Try also changing the transparency of the dots (_hint_: you can use the argument `alpha` for this). \n",
    "\n",
    "Write your answer in the cell below, and press the three dots to reveal the solution."
   ]
  },
  {
   "cell_type": "code",
   "execution_count": null,
   "metadata": {},
   "outputs": [],
   "source": []
  },
  {
   "cell_type": "code",
   "execution_count": null,
   "metadata": {
    "jupyter": {
     "source_hidden": true
    },
    "tags": []
   },
   "outputs": [],
   "source": [
    "#### Answer\n",
    "fig, ax = plt.subplots(figsize=(7,5))\n",
    "ax.scatter(alcohol, malic_acid, c=\"red\", alpha=.2)\n",
    "ax.set_xlabel(\"alcohol\")\n",
    "ax.set_ylabel(\"malic acid\")\n",
    "ax.set_title(\"Feature correlation\")\n",
    "plt.show()"
   ]
  },
  {
   "cell_type": "markdown",
   "metadata": {},
   "source": [
    "### Class distribution per feature\n",
    "\n",
    "We can also explore the relationship between our outcome variable and each feature. In the wine dataset, the outcome variable is discrete (i.e. it is a classification problem) so using a scatterplot wouldn't be the right option to illustrate this relationship. A more suitable possibility would be to use [__boxplots__](https://en.wikipedia.org/wiki/Box_plot)."
   ]
  },
  {
   "cell_type": "markdown",
   "metadata": {},
   "source": [
    "In _matplotlib_, boxplots can be created with `boxplot()`. If you read the documentation [here](https://matplotlib.org/stable/api/_as_gen/matplotlib.pyplot.boxplot.html) you will notice this function takes as input an array or a sequence of vectors containing the values to be plotted in each box. Thus, for our wine example, we first need to create a list of arrays where each array contains the values of our feature (e.g. `alcohol`) per class. Let's create this list:"
   ]
  },
  {
   "cell_type": "code",
   "execution_count": null,
   "metadata": {},
   "outputs": [],
   "source": [
    "# Create list of alcohol values per class\n",
    "alcohol_by_class = [\n",
    "    dataset.loc[dataset[\"target\"]==c][\"alcohol\"].values for c in set(dataset[\"target\"])\n",
    "]"
   ]
  },
  {
   "cell_type": "markdown",
   "metadata": {},
   "source": [
    "Let's plot the data:"
   ]
  },
  {
   "cell_type": "code",
   "execution_count": null,
   "metadata": {},
   "outputs": [],
   "source": [
    "# Create boxplot\n",
    "fig, ax = plt.subplots(figsize=(7,5))\n",
    "ax.boxplot(alcohol_by_class)\n",
    "ax.set_xlabel(\"wine class\")\n",
    "ax.set_ylabel(\"alcohol\")\n",
    "ax.set_title(\"Alcohol by wine class\")\n",
    "plt.show()"
   ]
  },
  {
   "cell_type": "markdown",
   "metadata": {},
   "source": [
    "There seems to be a difference in the alcohol content of the different types of wine classes. \n",
    "\n",
    "In our plot, the labels assigned to the outcome variable are not very informative. Unfortunately, we don't know which types of wine each number represents. For illustration purposes, we will invent the mapping of such labels:"
   ]
  },
  {
   "cell_type": "code",
   "execution_count": null,
   "metadata": {},
   "outputs": [],
   "source": [
    "# Invent mapping of class labels\n",
    "classes_names = [\"cabernet\", \"merlot\", \"primitivo\"]\n",
    "\n",
    "# Plot figure\n",
    "fig, ax = plt.subplots(figsize=(7,5))\n",
    "ax.boxplot(alcohol_by_class)\n",
    "\n",
    "ax.set_xticklabels(classes_names) # Set x ticks labels\n",
    "\n",
    "ax.set_xlabel(\"wine class\")\n",
    "ax.set_ylabel(\"alcohol\")\n",
    "ax.set_title(\"Alcohol by wine class\")\n",
    "plt.show()"
   ]
  },
  {
   "cell_type": "markdown",
   "metadata": {},
   "source": [
    "Let's now plot the relationship between each feature and the outcome variable using a single figure. We can do this by creating multiple axes in a single figure, and using a for loop to assign to each ax a specific feature-outcome plot:"
   ]
  },
  {
   "cell_type": "code",
   "execution_count": null,
   "metadata": {},
   "outputs": [],
   "source": [
    "# Create list of feature names\n",
    "feature_names = list(dataset.columns[1:-1].values)\n",
    "\n",
    "# Define number of columns and rows\n",
    "nrows = int(len(feature_names)/2)\n",
    "ncols = 2\n",
    "\n",
    "# Create figure\n",
    "fig, axes = plt.subplots(nrows, ncols, figsize=(12,20), constrained_layout=True)\n",
    "fig.suptitle(\"Distribution of feature values across classes\", fontsize=16)\n",
    "\n",
    "# Iterate over axes (subfigures)\n",
    "for idx, ax in enumerate(axes.flatten()):\n",
    "    \n",
    "    # Create list of feature values per class\n",
    "    feature_by_class = [\n",
    "        dataset.loc[dataset[\"target\"]==c][feature_names[idx]].values for c in set(dataset[\"target\"])\n",
    "    ]\n",
    "    \n",
    "    # Create boxplot\n",
    "    ax.boxplot(feature_by_class)\n",
    "    \n",
    "    # Set labels\n",
    "    ax.set_xlabel(\"wine class\")\n",
    "    ax.set_ylabel(f\"{feature_names[idx]}\")\n",
    "\n",
    "plt.show()"
   ]
  },
  {
   "cell_type": "markdown",
   "metadata": {},
   "source": [
    "Notice that we can also add a general title to the figure by calling the function `suptitle()` over `fig`. We can also define the fontsize of this title like: \n",
    "\n",
    "`fig.suptitle(\"Distribution of feature values across classes\", fontsize=16)`"
   ]
  },
  {
   "cell_type": "markdown",
   "metadata": {},
   "source": [
    "#### ✍️ Exercise\n",
    "\n",
    "We can change the fontsize of any text in the plot. Can you recreate the boxplot showing the distribution of alcohol content across classes, and change its `x` and `y` labels to be of size 15? You can also change the `title` of the plot to be of size 20. \n",
    "\n",
    "Using the same figure, see what happens if you set `notch=True` in `boxplot`.\n",
    "\n",
    "Write your answer in the cell below, and press the three dots to reveal the solution."
   ]
  },
  {
   "cell_type": "code",
   "execution_count": null,
   "metadata": {},
   "outputs": [],
   "source": []
  },
  {
   "cell_type": "code",
   "execution_count": null,
   "metadata": {
    "jupyter": {
     "source_hidden": true
    },
    "tags": []
   },
   "outputs": [],
   "source": [
    "#### Answer\n",
    "fig, ax = plt.subplots(figsize=(7,5))\n",
    "ax.boxplot(alcohol_by_class, notch=True)\n",
    "ax.set_xticklabels(classes_names) # set tick labels\n",
    "ax.set_xlabel(\"wine class\", fontsize=15)\n",
    "ax.set_ylabel(\"alcohol\", fontsize=15)\n",
    "ax.set_title(\"Alcohol by wine class\", fontsize=20)\n",
    "plt.show()"
   ]
  },
  {
   "cell_type": "markdown",
   "metadata": {},
   "source": [
    "# Seaborn"
   ]
  },
  {
   "cell_type": "markdown",
   "metadata": {},
   "source": [
    "Going back to our features correlation example, what if besides plotting the observations we also wanted to visualise the regression line that best fits the data?\n",
    "\n",
    "We could achieve this by calculating the line of best fit using any Python stats package (such as _statsmodel_), and then use `plot()` in _matplotlib_ to visualize the result on top of the scatterplot. However, there is another great visualization package in Python that makes this extremely easy: [_seaborn_](https://seaborn.pydata.org/).\n",
    "\n",
    "_Seaborn_ is a high-level plotting library that is built on top of _matplotlib_. It is well known for its ability to create [complex plots](https://seaborn.pydata.org/examples/index.html) with a simple interface. It also nicely integrates with the _pandas_ library.\n",
    "\n",
    "Let's see how easy is to plot a regression line of the relationship between our features using _seaborn_:"
   ]
  },
  {
   "cell_type": "code",
   "execution_count": null,
   "metadata": {},
   "outputs": [],
   "source": [
    "import seaborn as sns\n",
    "\n",
    "# Plot\n",
    "sns.regplot(x=alcohol, y=malic_acid)\n",
    "plt.show()"
   ]
  },
  {
   "cell_type": "markdown",
   "metadata": {},
   "source": [
    "Since our dataset is stored as a _pandas_ dataframe, we didn't even have to provide the `x` and `y` labels for our plot: _seaborn_ knows where to look for them in the dataframe.\n",
    "\n",
    "We can also easily combine _matplotlib_ and _seaborn_ functionality. _Seaborn_'s plots generally have a parameter named `ax` where we can specify the axes we want to plot on top of. If no ax is passed, seaborn plots over the current ax by default. Let's see an example of this integration, and modify the above plot with _matplotlib_ to be bigger and have a title:"
   ]
  },
  {
   "cell_type": "code",
   "execution_count": null,
   "metadata": {},
   "outputs": [],
   "source": [
    "# Plot\n",
    "fig, ax = plt.subplots(figsize=(10,8))\n",
    "sns.regplot(x=alcohol, y=malic_acid, ax=ax)\n",
    "ax.set_title(\"Feature correlation\", fontsize=20)\n",
    "plt.show()"
   ]
  },
  {
   "cell_type": "markdown",
   "metadata": {},
   "source": [
    "#### ✍️ Exercise\n",
    "\n",
    "[__Violinplots__](https://en.wikipedia.org/wiki/Violin_plot) can be more informative than boxplots. Can you read the documentation of `violinplot` [here](https://seaborn.pydata.org/generated/seaborn.violinplot.html#seaborn.violinplot) and use _seaborn_ to plot how alcohol content is distributed on each class of wine?\n",
    "\n",
    "Write your answer in the cell below, and press the three dots to reveal the solution."
   ]
  },
  {
   "cell_type": "code",
   "execution_count": null,
   "metadata": {},
   "outputs": [],
   "source": []
  },
  {
   "cell_type": "code",
   "execution_count": null,
   "metadata": {
    "jupyter": {
     "source_hidden": true
    },
    "tags": []
   },
   "outputs": [],
   "source": [
    "#### Answer\n",
    "sns.violinplot(x=dataset[\"target\"], y=dataset[\"alcohol\"])\n",
    "plt.show()"
   ]
  },
  {
   "cell_type": "markdown",
   "metadata": {},
   "source": [
    "---\n",
    "# ✏️ Check your knowledge\n",
    "\n",
    "Load the ABIDE 2 dataset and:\n",
    "\n",
    "1. Subselect a region of the brain and plot the correlation between their different measures (e.g. cortical thickness and surface area). \n",
    "    - Do you observe some interesting pattern/s?\n",
    "2. Subselect some features and plot their distribution for each class. \n",
    "    - Do you observe some interesting pattern/s?\n"
   ]
  },
  {
   "cell_type": "markdown",
   "metadata": {},
   "source": [
    "---\n",
    "# Additional resources\n",
    "- [Data Visualization in Python ](https://www.youtube.com/watch?v=uaKu5a6P3oU) _by Kirstie Whitaker_\n",
    "- [Matplotlib cheatsheet](https://github.com/matplotlib/cheatsheets/blob/master/cheatsheets-1.png) _by Matplotlib_\n",
    "- [Parts of a figure](https://matplotlib.org/1.5.1/faq/usage_faq.html#parts-of-a-figure) _by Matplotlib_\n",
    "- [The lifecycle of a plot](https://matplotlib.org/stable/tutorials/introductory/lifecycle.html) _by Matplotlib_"
   ]
  },
  {
   "cell_type": "code",
   "execution_count": null,
   "metadata": {},
   "outputs": [],
   "source": []
  }
 ],
 "metadata": {
  "kernelspec": {
   "display_name": "Python 3",
   "language": "python",
   "name": "python3"
  },
  "language_info": {
   "codemirror_mode": {
    "name": "ipython",
    "version": 3
   },
   "file_extension": ".py",
   "mimetype": "text/x-python",
   "name": "python",
   "nbconvert_exporter": "python",
   "pygments_lexer": "ipython3",
   "version": "3.8.0"
  }
 },
 "nbformat": 4,
 "nbformat_minor": 4
}
