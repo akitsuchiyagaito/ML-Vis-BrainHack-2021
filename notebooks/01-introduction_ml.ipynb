{
 "cells": [
  {
   "cell_type": "markdown",
   "metadata": {},
   "source": [
    "# Welcome!\n",
    "\n",
    "- Add description of table of contents\n",
    "\n",
    "## Assumed background knowledge\n",
    "- We assume that you have:\n",
    "    - _Basic knowledge of Machine Learning concepts_: You should be familiar with the concepts of:\n",
    "        - The difference between supervised/unsupervised Learning\n",
    "        - (...)\n",
    "    - Basic experience with Python\n",
    "    - We also assume that you have seen the video \n",
    "    [_A tutorial on machine learning_](https://www.youtube.com/watchv=pOAK6ynM11E&list=PLVso6Qs8PLCiciMyxyqxCzp38G5tEhdy6&index=6) \n",
    "    by [Laura Suarez](https://twitter.com/LauraESuarez24).\n",
    "\n",
    "If you think you are lacking some of this knowledge/experience, you can use the following resources to fill this gap:\n",
    "\n",
    "### ML background resources\n",
    "- {List of background resources for ML}\n",
    "\n",
    "### Python background resources"
   ]
  },
  {
   "cell_type": "markdown",
   "metadata": {},
   "source": [
    "# Machine Learning in Python\n",
    "\n",
    "- Explain scikit-learn\n",
    "- Mention there are other toolboxes like nilearn and mne that specifically carry out ML analysis on brain data.\n",
    "    - scikit-learn is the foundation of both, so we will explain how to use this toolbox for more general knowledge"
   ]
  },
  {
   "cell_type": "markdown",
   "metadata": {},
   "source": [
    "# The data\n",
    "\n",
    "- Description of the data we will be using"
   ]
  },
  {
   "cell_type": "markdown",
   "metadata": {},
   "source": [
    "## Preparing the data for analysis\n",
    "\n",
    "- Explain how to format the data for ML analysis\n",
    "- Use both numpy arrays and pandas dataframes\n",
    "- Explain `X`and `y`"
   ]
  },
  {
   "cell_type": "markdown",
   "metadata": {},
   "source": [
    "# Additional Resources\n",
    "- https://inria.github.io/scikit-learn-mooc/\n",
    "- https://github.com/jakevdp/sklearn_tutorial\n",
    "- https://github.com/tyarkoni/ML4PS"
   ]
  },
  {
   "cell_type": "code",
   "execution_count": null,
   "metadata": {},
   "outputs": [],
   "source": []
  }
 ],
 "metadata": {
  "kernelspec": {
   "display_name": "Python 3",
   "language": "python",
   "name": "python3"
  },
  "language_info": {
   "codemirror_mode": {
    "name": "ipython",
    "version": 3
   },
   "file_extension": ".py",
   "mimetype": "text/x-python",
   "name": "python",
   "nbconvert_exporter": "python",
   "pygments_lexer": "ipython3",
   "version": "3.8.0"
  }
 },
 "nbformat": 4,
 "nbformat_minor": 2
}
