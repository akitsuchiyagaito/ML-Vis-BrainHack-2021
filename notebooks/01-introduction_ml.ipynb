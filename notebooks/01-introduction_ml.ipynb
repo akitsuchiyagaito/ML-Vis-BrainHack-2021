{
 "metadata": {
  "language_info": {
   "codemirror_mode": {
    "name": "ipython",
    "version": 3
   },
   "file_extension": ".py",
   "mimetype": "text/x-python",
   "name": "python",
   "nbconvert_exporter": "python",
   "pygments_lexer": "ipython3",
   "version": 3
  },
  "orig_nbformat": 2
 },
 "nbformat": 4,
 "nbformat_minor": 2,
 "cells": [
  {
   "source": [
    "# Welcome!\n",
    "\n",
    "- TODO: add description\n",
    "- Assumed knowledge:\n",
    "    - Basic concepts of machine learning\n",
    "    - Some experience with Python\n",
    "\n",
    "## ML background resources\n",
    "- {List of background resources for ML}"
   ],
   "cell_type": "markdown",
   "metadata": {}
  },
  {
   "source": [
    "# ML toolboxes\n",
    "\n",
    "- Explain scikit-learn\n",
    "- Mention there are other toolboxes like nilearn and mne that specifically carry out ML analysis on brain data.\n",
    "    - scikit-learn is the foundation of both, so we will explain how to use this toolbox for more general knowledge"
   ],
   "cell_type": "markdown",
   "metadata": {}
  },
  {
   "source": [
    "# The data\n",
    "\n",
    "- Description of the data we will be using"
   ],
   "cell_type": "markdown",
   "metadata": {}
  },
  {
   "source": [
    "## Preparing the data for analysis\n",
    "\n",
    "- Explain how to format the data for ML analysis\n",
    "- Use both numpy arrays and pandas dataframes"
   ],
   "cell_type": "markdown",
   "metadata": {}
  },
  {
   "source": [
    "## Additional Resources\n",
    "- https://inria.github.io/scikit-learn-mooc/\n",
    "- https://github.com/jakevdp/sklearn_tutorial\n",
    "- https://github.com/tyarkoni/ML4PS/blob/master/"
   ],
   "cell_type": "markdown",
   "metadata": {}
  },
  {
   "cell_type": "code",
   "execution_count": null,
   "metadata": {},
   "outputs": [],
   "source": []
  }
 ]
}