{
 "cells": [
  {
   "cell_type": "markdown",
   "metadata": {},
   "source": [
    "# Welcome!\n",
    "\n",
    "- Add description of table of contents\n",
    "\n",
    "## Assumed background knowledge\n",
    "- We assume that you have:\n",
    "    - _Basic knowledge of Machine Learning concepts_: You should be familiar with the concepts of:\n",
    "        - The difference between supervised and unsupervised learning\n",
    "        - The difference between classification, regression and clustering models\n",
    "    - Basic experience with Python\n",
    "    - We also assume that you have seen the video \n",
    "    [_A tutorial on machine learning_](https://www.youtube.com/watchv=pOAK6ynM11E&list=PLVso6Qs8PLCiciMyxyqxCzp38G5tEhdy6&index=6) \n",
    "    by [Laura Suarez](https://twitter.com/LauraESuarez24).\n",
    "\n",
    "If you think you are lacking some of this knowledge/experience, you can use the following resources to fill this gap:\n",
    "\n",
    "### ML background resources\n",
    "- {List of background resources for ML}\n",
    "\n",
    "### Python background resources"
   ]
  },
  {
   "cell_type": "markdown",
   "metadata": {},
   "source": [
    "# Machine Learning in Python\n",
    "\n",
    "- Explain scikit-learn\n",
    "- Mention there are other toolboxes like nilearn and mne that specifically carry out ML analysis on brain data.\n",
    "    - scikit-learn is the foundation of both, so we will explain how to use this toolbox for more general knowledge"
   ]
  },
  {
   "cell_type": "markdown",
   "metadata": {},
   "source": [
    "# The data\n",
    "\n",
    "- Is very important that we familiarize ourselves with the data we will be using.\n",
    "- Description of the data we will be using"
   ]
  },
  {
   "cell_type": "code",
   "execution_count": 3,
   "metadata": {},
   "outputs": [
    {
     "ename": "SyntaxError",
     "evalue": "EOL while scanning string literal (<ipython-input-3-b37f5cb4ba56>, line 4)",
     "output_type": "error",
     "traceback": [
      "\u001b[0;36m  File \u001b[0;32m\"<ipython-input-3-b37f5cb4ba56>\"\u001b[0;36m, line \u001b[0;32m4\u001b[0m\n\u001b[0;31m    abide_data = pd.read_csv(url, sep=\"\\\")\u001b[0m\n\u001b[0m                                          ^\u001b[0m\n\u001b[0;31mSyntaxError\u001b[0m\u001b[0;31m:\u001b[0m EOL while scanning string literal\n"
     ]
    }
   ],
   "source": [
    "import pandas as pd\n",
    "\n",
    "url = \"https://raw.githubusercontent.com/sina-mansour/OHBM-Brainhack-2021/main/data/abide2.tsv\"\n",
    "abide_data = pd.read_csv(url, sep=\"\\\")\n",
    "abide_data"
   ]
  },
  {
   "cell_type": "markdown",
   "metadata": {},
   "source": [
    "## Preparing the data for ML analysis\n",
    "\n",
    "- Explain how to format the data for ML analysis\n",
    "- Use both numpy arrays and pandas dataframes\n",
    "- Explain `X` (with observations and features - also called predictors-) and `y` (labels, targets)\n",
    "    - In neuro features can be channels, voxels, rois, etc."
   ]
  },
  {
   "cell_type": "markdown",
   "metadata": {},
   "source": [
    "# Additional Resources\n",
    "- https://inria.github.io/scikit-learn-mooc/\n",
    "- https://github.com/jakevdp/sklearn_tutorial\n",
    "- https://github.com/tyarkoni/ML4PS"
   ]
  },
  {
   "cell_type": "code",
   "execution_count": null,
   "metadata": {},
   "outputs": [],
   "source": []
  }
 ],
 "metadata": {
  "kernelspec": {
   "display_name": "Python 3",
   "language": "python",
   "name": "python3"
  },
  "language_info": {
   "codemirror_mode": {
    "name": "ipython",
    "version": 3
   },
   "file_extension": ".py",
   "mimetype": "text/x-python",
   "name": "python",
   "nbconvert_exporter": "python",
   "pygments_lexer": "ipython3",
   "version": "3.8.0"
  }
 },
 "nbformat": 4,
 "nbformat_minor": 2
}
